{
 "cells": [
  {
   "cell_type": "code",
   "execution_count": 1,
   "id": "90b26f6d-6e9e-4a7f-b675-2e25f73a3d1f",
   "metadata": {},
   "outputs": [
    {
     "name": "stdout",
     "output_type": "stream",
     "text": [
      "X1 X2 | Output (X1 AND NOT X2)\n",
      "-----------------------------\n",
      " 0  0  |        0\n",
      " 0  1  |        0\n",
      " 1  0  |        1\n",
      " 1  1  |        0\n"
     ]
    }
   ],
   "source": [
    "# Define the activation function (step function)\n",
    "def activation(weighted_sum, threshold):\n",
    "    return 1 if weighted_sum >= threshold else 0\n",
    "\n",
    "# Inputs for AND-NOT gate (X1 AND NOT X2)\n",
    "inputs = [\n",
    "    (0, 0),\n",
    "    (0, 1),\n",
    "    (1, 0),\n",
    "    (1, 1)\n",
    "]\n",
    "\n",
    "# Define weights and threshold\n",
    "# For AND-NOT: Output = X1 AND (NOT X2)\n",
    "# So use: weight1 = 1, weight2 = -1, threshold = 1\n",
    "w1 = 1\n",
    "w2 = -1\n",
    "threshold = 1\n",
    "\n",
    "# Display results\n",
    "print(\"X1 X2 | Output (X1 AND NOT X2)\")\n",
    "print(\"-----------------------------\")\n",
    "for x1, x2 in inputs:\n",
    "    weighted_sum = w1 * x1 + w2 * x2\n",
    "    output = activation(weighted_sum, threshold)\n",
    "    print(f\" {x1}  {x2}  |        {output}\")\n"
   ]
  },
  {
   "cell_type": "code",
   "execution_count": null,
   "id": "c470f551-f807-4684-9b2f-9acae5dd2fab",
   "metadata": {},
   "outputs": [],
   "source": []
  }
 ],
 "metadata": {
  "kernelspec": {
   "display_name": "Python 3 (ipykernel)",
   "language": "python",
   "name": "python3"
  },
  "language_info": {
   "codemirror_mode": {
    "name": "ipython",
    "version": 3
   },
   "file_extension": ".py",
   "mimetype": "text/x-python",
   "name": "python",
   "nbconvert_exporter": "python",
   "pygments_lexer": "ipython3",
   "version": "3.13.3"
  }
 },
 "nbformat": 4,
 "nbformat_minor": 5
}
