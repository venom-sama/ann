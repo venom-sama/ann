{
 "cells": [
  {
   "cell_type": "code",
   "execution_count": 2,
   "id": "dffbe29f-86c0-4519-ae69-9b4a461d017c",
   "metadata": {},
   "outputs": [
    {
     "name": "stdout",
     "output_type": "stream",
     "text": [
      "Input:\n",
      "[[0 0]\n",
      " [0 1]\n",
      " [1 0]\n",
      " [1 1]]\n",
      "Output:\n",
      "[[0.04330882]\n",
      " [0.86013407]\n",
      " [0.86013436]\n",
      " [0.55135572]]\n"
     ]
    }
   ],
   "source": [
    "\"\"\" \n",
    "Group B: Assignment No. 8\n",
    "Assignment Title: Write a python program in python program for\n",
    "creating a Back Propagation Feed-forward neural network\n",
    "\"\"\"\n",
    "import numpy as np\n",
    "\n",
    "# Define sigmoid activation function\n",
    "def sigmoid(x):\n",
    "    return 1 / (1 + np.exp(-x))\n",
    "\n",
    "# Define derivative of sigmoid function\n",
    "def sigmoid_derivative(x):\n",
    "    return x * (1 - x)\n",
    "\n",
    "# Define input dataset\n",
    "X = np.array([[0,0], [0,1], [1,0], [1,1]])\n",
    "\n",
    "# Define output dataset\n",
    "y = np.array([[0], [1], [1], [0]])\n",
    "\n",
    "# Define hyperparameters\n",
    "learning_rate = 0.1\n",
    "num_epochs = 100000\n",
    "\n",
    "# Initialize weights randomly with mean 0\n",
    "hidden_weights = 2*np.random.random((2,2)) - 1\n",
    "output_weights = 2*np.random.random((2,1)) - 1\n",
    "\n",
    "# Train the neural network\n",
    "for i in range(num_epochs):\n",
    "    # Forward propagation\n",
    "    hidden_layer = sigmoid(np.dot(X, hidden_weights))\n",
    "    output_layer = sigmoid(np.dot(hidden_layer, output_weights))\n",
    "    # Backpropagation\n",
    "    output_error = y - output_layer\n",
    "    output_delta = output_error * sigmoid_derivative(output_layer)\n",
    "    hidden_error = output_delta.dot(output_weights.T)\n",
    "    hidden_delta = hidden_error * sigmoid_derivative(hidden_layer)\n",
    "    output_weights += hidden_layer.T.dot(output_delta) * learning_rate\n",
    "    hidden_weights += X.T.dot(hidden_delta) * learning_rate\n",
    "    \n",
    "# Display input and output\n",
    "print(\"Input:\")\n",
    "print(X)\n",
    "print(\"Output:\")\n",
    "print(output_layer)"
   ]
  },
  {
   "cell_type": "code",
   "execution_count": null,
   "id": "89eabd74-552a-4405-a0ba-d5f57014be89",
   "metadata": {},
   "outputs": [],
   "source": []
  }
 ],
 "metadata": {
  "kernelspec": {
   "display_name": "Python 3 (ipykernel)",
   "language": "python",
   "name": "python3"
  },
  "language_info": {
   "codemirror_mode": {
    "name": "ipython",
    "version": 3
   },
   "file_extension": ".py",
   "mimetype": "text/x-python",
   "name": "python",
   "nbconvert_exporter": "python",
   "pygments_lexer": "ipython3",
   "version": "3.12.4"
  }
 },
 "nbformat": 4,
 "nbformat_minor": 5
}
