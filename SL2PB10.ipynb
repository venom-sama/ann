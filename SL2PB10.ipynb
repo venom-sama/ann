{
 "cells": [
  {
   "cell_type": "code",
   "execution_count": null,
   "id": "92e482ec-028d-4463-91d8-7b74abaab296",
   "metadata": {},
   "outputs": [],
   "source": [
    "!pip install keras"
   ]
  },
  {
   "cell_type": "code",
   "execution_count": null,
   "id": "a9ec4714-857a-40d0-b3b1-6adcb9a1ab74",
   "metadata": {},
   "outputs": [],
   "source": [
    "\"\"\" \n",
    "Group B: Assignment No. 10\n",
    "Assignment Title: Write Python program to implement CNN object\n",
    "detection. Discuss numerous performance evaluation metrics for\n",
    "evaluating the object detecting algorithms' performance.\n",
    "\"\"\"\n",
    "import keras\n",
    "from keras.datasets import cifar10\n",
    "from keras.models import Sequential\n",
    "from keras.layers import Dense, Dropout, Flatten\n",
    "from keras.layers import Conv2D, MaxPooling2D\n",
    "from keras.optimizers import SGD\n",
    "from keras.preprocessing.image import ImageDataGenerator\n",
    "\n",
    "# Load CIFAR-10 dataset\n",
    "(X_train, y_train), (X_test, y_test) = cifar10.load_data()\n",
    "\n",
    "# Define the model\n",
    "model = Sequential()\n",
    "model.add(Conv2D(32, (3, 3), activation='relu', input_shape=(32, 32,3)))\n",
    "model.add(Conv2D(32, (3, 3), activation='relu'))\n",
    "model.add(MaxPooling2D(pool_size=(2, 2)))\n",
    "model.add(Dropout(0.25))\n",
    "model.add(Conv2D(64, (3, 3), activation='relu'))\n",
    "model.add(Conv2D(64, (3, 3), activation='relu'))\n",
    "model.add(MaxPooling2D(pool_size=(2, 2)))\n",
    "model.add(Dropout(0.25))\n",
    "model.add(Flatten())\n",
    "model.add(Dense(512, activation='relu'))\n",
    "model.add(Dropout(0.5))\n",
    "model.add(Dense(10, activation='softmax'))\n",
    "\n",
    "# Define data generators\n",
    "train_datagen = ImageDataGenerator(rescale=1./255, shear_range=0.2,\n",
    "zoom_range=0.2, horizontal_flip=True)\n",
    "test_datagen = ImageDataGenerator(rescale=1./255)\n",
    "\n",
    "# Prepare the data\n",
    "train_set = train_datagen.flow(X_train, y_train, batch_size=32)\n",
    "test_set = test_datagen.flow(X_test, y_test, batch_size=32)\n",
    "\n",
    "# Compile the model\n",
    "# Compile the model\n",
    "sgd = SGD(learning_rate=0.01, momentum=0.9, nesterov=True)\n",
    "model.compile(loss='categorical_crossentropy', optimizer=sgd, metrics=['accuracy'])\n",
    "#sgd = SGD(lr=0.01, decay=1e-6, momentum=0.9, nesterov=True)\n",
    "#model.compile(loss='categorical_crossentropy', optimizer=sgd,metrics=['accuracy'])\n",
    "\n",
    "# Train the model\n",
    "model.fit_generator(train_set, steps_per_epoch=len(X_train)//32,\n",
    "epochs=100, validation_data=test_set,\n",
    "validation_steps=len(X_test)//32)\n",
    "\n",
    "# Evaluate the model\n",
    "score = model.evaluate(test_set, verbose=0)\n",
    "print('Test loss:', score[0])   \n",
    "print('Test accuracy:', score[1])"
   ]
  },
  {
   "cell_type": "code",
   "execution_count": null,
   "id": "cd288367-1824-45db-afe3-b99dcebe6711",
   "metadata": {},
   "outputs": [],
   "source": []
  }
 ],
 "metadata": {
  "kernelspec": {
   "display_name": "Python 3 (ipykernel)",
   "language": "python",
   "name": "python3"
  },
  "language_info": {
   "codemirror_mode": {
    "name": "ipython",
    "version": 3
   },
   "file_extension": ".py",
   "mimetype": "text/x-python",
   "name": "python",
   "nbconvert_exporter": "python",
   "pygments_lexer": "ipython3",
   "version": "3.12.4"
  }
 },
 "nbformat": 4,
 "nbformat_minor": 5
}
