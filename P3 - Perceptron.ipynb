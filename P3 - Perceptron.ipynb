{
 "cells": [
  {
   "cell_type": "code",
   "execution_count": 8,
   "id": "6f5ddf78-177c-41f1-aa02-83133113ed48",
   "metadata": {},
   "outputs": [
    {
     "name": "stdout",
     "output_type": "stream",
     "text": [
      "Digit | ASCII | Output | Even/Odd\n",
      "-------------------------------\n",
      "  0    |  48   |   0    |  Even\n",
      "  1    |  49   |   1    |  Odd\n",
      "  2    |  50   |   0    |  Even\n",
      "  3    |  51   |   1    |  Odd\n",
      "  4    |  52   |   0    |  Even\n",
      "  5    |  53   |   1    |  Odd\n",
      "  6    |  54   |   0    |  Even\n",
      "  7    |  55   |   1    |  Odd\n",
      "  8    |  56   |   0    |  Even\n",
      "  9    |  57   |   1    |  Odd\n"
     ]
    }
   ],
   "source": [
    "import numpy as np\n",
    "\n",
    "# Step 1: Prepare input (one-hot encoding for digits 0 to 9)\n",
    "X = np.eye(10)\n",
    "\n",
    "# Step 2: Labels - 0 for even, 1 for odd\n",
    "y = np.array([0 if i % 2 == 0 else 1 for i in range(10)])\n",
    "\n",
    "# Step 3: Initialize weights and bias\n",
    "weights = np.zeros(10)\n",
    "bias = 0\n",
    "lr = 1\n",
    "epochs = 100\n",
    "\n",
    "# Step 4: Activation function\n",
    "def activation(z):\n",
    "    return 1 if z >= 0 else 0\n",
    "\n",
    "# Step 5: Training loop\n",
    "for epoch in range(epochs):\n",
    "    for i in range(len(X)):\n",
    "        z = np.dot(weights, X[i]) + bias\n",
    "        y_pred = activation(z)\n",
    "        error = y[i] - y_pred\n",
    "        weights += lr * error * X[i]\n",
    "        bias += lr * error\n",
    "\n",
    "# Step 6: Testing and output display\n",
    "print(\"Digit | ASCII | Output | Even/Odd\")\n",
    "print(\"-------------------------------\")\n",
    "for i in range(10):\n",
    "    z = np.dot(weights, X[i]) + bias\n",
    "    output = activation(z)\n",
    "    label = \"Even\" if output == 0 else \"Odd\"\n",
    "    print(f\"  {i}    |  {ord(str(i))}   |   {output}    |  {label}\")\n"
   ]
  }
 ],
 "metadata": {
  "kernelspec": {
   "display_name": "Python 3 (ipykernel)",
   "language": "python",
   "name": "python3"
  },
  "language_info": {
   "codemirror_mode": {
    "name": "ipython",
    "version": 3
   },
   "file_extension": ".py",
   "mimetype": "text/x-python",
   "name": "python",
   "nbconvert_exporter": "python",
   "pygments_lexer": "ipython3",
   "version": "3.13.3"
  }
 },
 "nbformat": 4,
 "nbformat_minor": 5
}
