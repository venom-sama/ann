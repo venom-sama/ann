{
 "cells": [
  {
   "cell_type": "code",
   "execution_count": 3,
   "id": "377c5aa2-7997-4a46-9bd0-545c371f748f",
   "metadata": {},
   "outputs": [
    {
     "name": "stdout",
     "output_type": "stream",
     "text": [
      "\n",
      "Menu:\n",
      "1. Generate ANDNOT Function\n",
      "2. Exit\n"
     ]
    },
    {
     "name": "stdin",
     "output_type": "stream",
     "text": [
      "Enter your choice:  1\n"
     ]
    },
    {
     "name": "stdout",
     "output_type": "stream",
     "text": [
      "Truth Table for ANDNOT Function:\n",
      "Input1\tInput2\tOutput\n",
      "0\t0\t0\n",
      "0\t1\t1\n",
      "1\t0\t0\n",
      "1\t1\t0\n",
      "\n",
      "Menu:\n",
      "1. Generate ANDNOT Function\n",
      "2. Exit\n"
     ]
    },
    {
     "name": "stdin",
     "output_type": "stream",
     "text": [
      "Enter your choice:  2\n"
     ]
    },
    {
     "name": "stdout",
     "output_type": "stream",
     "text": [
      "Exiting program...\n"
     ]
    }
   ],
   "source": [
    "\"\"\" \n",
    "Group A: Assignment No. 2\n",
    "Assignment Title: Generate ANDNOT function using McCulloch-Pitts\n",
    "neural net by a python program.\n",
    "\n",
    "Sample input:\n",
    "1\n",
    "2\n",
    "\"\"\"\n",
    "import numpy as np\n",
    "\n",
    "class McCullochPittsNN:\n",
    "    def __init__(self, num_inputs):\n",
    "        self.weights = np.zeros(num_inputs)\n",
    "        self.threshold = 0\n",
    "\n",
    "    def set_weights(self, weights):\n",
    "        if len(weights) != len(self.weights):\n",
    "            raise ValueError(\"Number of weights must match number of inputs\")\n",
    "        self.weights = np.array(weights)\n",
    "\n",
    "    def set_threshold(self, threshold):\n",
    "        self.threshold = threshold\n",
    "\n",
    "    def activation_function(self, net_input):\n",
    "        return 1 if net_input > self.threshold else 0\n",
    "\n",
    "    def forward_pass(self, inputs):\n",
    "        net_input = np.dot(inputs, self.weights)\n",
    "        return self.activation_function(net_input)\n",
    "\n",
    "def generate_ANDNOT():\n",
    "    # Initialize McCulloch-Pitts neural network with 2 inputs\n",
    "    mp_nn = McCullochPittsNN(2)\n",
    "    mp_nn.set_weights([-1, 1])  # Weights for ANDNOT function\n",
    "    mp_nn.set_threshold(0)\n",
    "\n",
    "    # Generate truth table for ANDNOT function\n",
    "    truth_table = [(0, 0), (0, 1), (1, 0), (1, 1)]\n",
    "\n",
    "    print(\"Truth Table for ANDNOT Function:\")\n",
    "    print(\"Input1\\tInput2\\tOutput\")\n",
    "    for inputs in truth_table:\n",
    "        output = mp_nn.forward_pass(inputs)\n",
    "        print(f\"{inputs[0]}\\t{inputs[1]}\\t{output}\")\n",
    "\n",
    "def main():\n",
    "    while True:\n",
    "        print(\"\\nMenu:\")\n",
    "        print(\"1. Generate ANDNOT Function\")\n",
    "        print(\"2. Exit\")\n",
    "\n",
    "        choice = input(\"Enter your choice: \")\n",
    "\n",
    "        if choice == \"1\":\n",
    "            generate_ANDNOT()\n",
    "        elif choice == \"2\":\n",
    "            print(\"Exiting program...\")\n",
    "            break\n",
    "        else:\n",
    "            print(\"Invalid choice. Please enter a valid option.\")\n",
    "\n",
    "if __name__ == \"__main__\":\n",
    "    main()\n"
   ]
  },
  {
   "cell_type": "code",
   "execution_count": null,
   "id": "eeae3c58-583d-41cd-8e5e-055a4f8860dc",
   "metadata": {},
   "outputs": [],
   "source": []
  }
 ],
 "metadata": {
  "kernelspec": {
   "display_name": "Python 3 (ipykernel)",
   "language": "python",
   "name": "python3"
  },
  "language_info": {
   "codemirror_mode": {
    "name": "ipython",
    "version": 3
   },
   "file_extension": ".py",
   "mimetype": "text/x-python",
   "name": "python",
   "nbconvert_exporter": "python",
   "pygments_lexer": "ipython3",
   "version": "3.12.4"
  }
 },
 "nbformat": 4,
 "nbformat_minor": 5
}
