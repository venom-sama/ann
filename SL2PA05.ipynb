{
 "cells": [
  {
   "cell_type": "code",
   "execution_count": null,
   "id": "c303506a-117a-46d7-9fe7-9e8bbbd841f4",
   "metadata": {},
   "outputs": [
    {
     "name": "stdin",
     "output_type": "stream",
     "text": [
      "Enter the input vector size:  4\n",
      "Enter the output vector size:  2\n"
     ]
    },
    {
     "name": "stdout",
     "output_type": "stream",
     "text": [
      "\n",
      "Menu:\n",
      "1. Train BAM\n",
      "2. Recall BAM\n",
      "3. Exit\n"
     ]
    },
    {
     "name": "stdin",
     "output_type": "stream",
     "text": [
      "Enter your choice (1/2/3):  1\n",
      "Enter the number of input-output pairs:  2\n"
     ]
    }
   ],
   "source": [
    "\"\"\" \n",
    "Group A: Assignment No. 5\n",
    "Assignment Title: Write a python Program for Bidirectional Associative\n",
    "Memory with two pairs of vectors.\n",
    "\n",
    "Sample input : \n",
    "Enter the input vector size: 4\n",
    "Enter the output vector size: 2\n",
    "\n",
    "Menu:\n",
    "1. Train BAM\n",
    "2. Recall BAM\n",
    "3. Exit\n",
    "Enter your choice (1/2/3): 1\n",
    "Enter the number of input-output pairs: 2\n",
    "Enter input pattern (space-separated values): 1 1 1 -1\n",
    "Enter corresponding output pattern (space-separated values): 1 -1\n",
    "Enter input pattern (space-separated values): -1 -1 1 1\n",
    "Enter corresponding output pattern (space-separated values): -1 1\n",
    "BAM trained successfully.\n",
    "\n",
    "Menu:\n",
    "1. Train BAM\n",
    "2. Recall BAM\n",
    "3. Exit\n",
    "Enter your choice (1/2/3): 2\n",
    "Enter input pattern to recall (space-separated values): 1 -1 -1 1\n",
    "Recalled Output: [-1.  1.]\n",
    "\n",
    "Menu:\n",
    "1. Train BAM\n",
    "2. Recall BAM\n",
    "3. Exit\n",
    "Enter your choice (1/2/3): 3\n",
    "Exiting program.\n",
    "\"\"\"\n",
    "\n",
    "import numpy as np\n",
    "\n",
    "class BAM:\n",
    "    def __init__(self, input_size, output_size):\n",
    "        self.input_size = input_size\n",
    "        self.output_size = output_size\n",
    "        self.weights = np.zeros((input_size, output_size))\n",
    "\n",
    "    def train(self, input_patterns, output_patterns):\n",
    "        for x, y in zip(input_patterns, output_patterns):\n",
    "            self.weights += np.outer(x, y)\n",
    "\n",
    "    def recall(self, input_pattern):\n",
    "        output_pattern = np.dot(input_pattern, self.weights)\n",
    "        output_pattern[output_pattern >= 0] = 1\n",
    "        output_pattern[output_pattern < 0] = -1\n",
    "        return output_pattern\n",
    "\n",
    "def train_bam():\n",
    "    input_patterns = []\n",
    "    output_patterns = []\n",
    "    num_pairs = int(input(\"Enter the number of input-output pairs: \"))\n",
    "    for _ in range(num_pairs):\n",
    "        input_pattern = np.array([int(x) for x in input(\"Enter input pattern (space-separated values): \").split()])\n",
    "        output_pattern = np.array([int(x) for x in input(\"Enter corresponding output pattern (space-separated values): \").split()])\n",
    "        input_patterns.append(input_pattern)\n",
    "        output_patterns.append(output_pattern)\n",
    "    bam.train(input_patterns, output_patterns)\n",
    "    print(\"BAM trained successfully.\")\n",
    "\n",
    "def recall_bam():\n",
    "    input_pattern = np.array([int(x) for x in input(\"Enter input pattern to recall (space-separated values): \").split()])\n",
    "    recalled_output = bam.recall(input_pattern)\n",
    "    print(\"Recalled Output:\", recalled_output)\n",
    "\n",
    "if __name__ == \"__main__\":\n",
    "    input_size = int(input(\"Enter the input vector size: \"))\n",
    "    output_size = int(input(\"Enter the output vector size: \"))\n",
    "    \n",
    "    bam = BAM(input_size, output_size)\n",
    "    \n",
    "    while True:\n",
    "        print(\"\\nMenu:\")\n",
    "        print(\"1. Train BAM\")\n",
    "        print(\"2. Recall BAM\")\n",
    "        print(\"3. Exit\")\n",
    "        choice = input(\"Enter your choice (1/2/3): \")\n",
    "        \n",
    "        if choice == '1':\n",
    "            train_bam()\n",
    "        elif choice == '2':\n",
    "            recall_bam()\n",
    "        elif choice == '3':\n",
    "            print(\"Exiting program.\")\n",
    "            break\n",
    "        else:\n",
    "            print(\"Invalid choice. Please enter 1, 2, or 3.\")\n"
   ]
  },
  {
   "cell_type": "code",
   "execution_count": null,
   "id": "f0eb8959-0f0e-46b9-9886-d0b48b85889e",
   "metadata": {},
   "outputs": [],
   "source": []
  }
 ],
 "metadata": {
  "kernelspec": {
   "display_name": "Python 3 (ipykernel)",
   "language": "python",
   "name": "python3"
  },
  "language_info": {
   "codemirror_mode": {
    "name": "ipython",
    "version": 3
   },
   "file_extension": ".py",
   "mimetype": "text/x-python",
   "name": "python",
   "nbconvert_exporter": "python",
   "pygments_lexer": "ipython3",
   "version": "3.12.4"
  }
 },
 "nbformat": 4,
 "nbformat_minor": 5
}
