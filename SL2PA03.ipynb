{
 "cells": [
  {
   "cell_type": "code",
   "execution_count": 4,
   "id": "9faf9118-f133-475e-a802-ceb073414c94",
   "metadata": {},
   "outputs": [
    {
     "name": "stdout",
     "output_type": "stream",
     "text": [
      "\n",
      "MENU:\n",
      "1. Train Perceptron\n",
      "2. Test Perceptron\n",
      "3. Exit\n"
     ]
    },
    {
     "name": "stdin",
     "output_type": "stream",
     "text": [
      "Enter your choice:  1\n"
     ]
    },
    {
     "name": "stdout",
     "output_type": "stream",
     "text": [
      "Perceptron trained successfully!\n",
      "\n",
      "MENU:\n",
      "1. Train Perceptron\n",
      "2. Test Perceptron\n",
      "3. Exit\n"
     ]
    },
    {
     "name": "stdin",
     "output_type": "stream",
     "text": [
      "Enter your choice:  2\n"
     ]
    },
    {
     "name": "stdout",
     "output_type": "stream",
     "text": [
      "Testing the perceptron:\n",
      "[0, 0, 0, 0, 0, 0, 0, 0, 0, 1] which is number 0 is even\n",
      "Number 1 is odd\n",
      "[0, 1, 0, 0, 0, 0, 0, 0, 0, 0] which is number 2 is even\n",
      "Number 3 is odd\n",
      "[0, 0, 0, 1, 0, 0, 0, 0, 0, 0] which is number 4 is even\n",
      "Number 5 is odd\n",
      "[0, 0, 0, 0, 0, 1, 0, 0, 0, 0] which is number 6 is even\n",
      "Number 7 is odd\n",
      "[0, 0, 0, 0, 0, 0, 0, 1, 0, 0] which is number 8 is even\n",
      "Number 9 is odd\n",
      "Accuracy: 100.00%\n",
      "\n",
      "MENU:\n",
      "1. Train Perceptron\n",
      "2. Test Perceptron\n",
      "3. Exit\n"
     ]
    },
    {
     "name": "stdin",
     "output_type": "stream",
     "text": [
      "Enter your choice:  3\n"
     ]
    },
    {
     "name": "stdout",
     "output_type": "stream",
     "text": [
      "Exiting...\n"
     ]
    }
   ],
   "source": [
    "\"\"\" \n",
    "Group A: Assignment No.3\n",
    "Assignment Title: Write a Python Program using Perceptron Neural\n",
    "Network to recognise even and odd numbers. Given numbers are in ASCII\n",
    "form 0 to 9\n",
    "\"\"\"\n",
    "import numpy as np\n",
    "\n",
    "class Perceptron:\n",
    "    def __init__(self, input_size, lr=1, epochs=100):\n",
    "        self.W = np.zeros(input_size+1)\n",
    "        self.epochs = epochs\n",
    "        self.lr = lr\n",
    "    \n",
    "    def activation_fn(self, x):\n",
    "        return 1 if x >= 0 else 0\n",
    "    \n",
    "    def predict(self, x):\n",
    "        x = np.insert(x, 0, 1)\n",
    "        z = self.W.dot(x)\n",
    "        a = self.activation_fn(z)\n",
    "        return a\n",
    "    \n",
    "    def train(self, X, labels):\n",
    "        for _ in range(self.epochs):\n",
    "            for i in range(len(labels)):\n",
    "                x = np.insert(X[i], 0, 1)\n",
    "                y_pred = self.predict(X[i])\n",
    "                error = labels[i] - y_pred\n",
    "                self.W = self.W + self.lr * error * x\n",
    "\n",
    "def train_perceptron():\n",
    "    # Training data\n",
    "    X_train = [\n",
    "        [0, 0, 0, 0, 0, 0, 0, 0, 0, 1], # 0\n",
    "        [1, 0, 0, 0, 0, 0, 0, 0, 0, 0], # 1\n",
    "        [0, 1, 0, 0, 0, 0, 0, 0, 0, 0], # 2\n",
    "        [0, 0, 1, 0, 0, 0, 0, 0, 0, 0], # 3\n",
    "        [0, 0, 0, 1, 0, 0, 0, 0, 0, 0], # 4\n",
    "        [0, 0, 0, 0, 1, 0, 0, 0, 0, 0], # 5\n",
    "        [0, 0, 0, 0, 0, 1, 0, 0, 0, 0], # 6\n",
    "        [0, 0, 0, 0, 0, 0, 1, 0, 0, 0], # 7\n",
    "        [0, 0, 0, 0, 0, 0, 0, 1, 0, 0], # 8\n",
    "        [0, 0, 0, 0, 0, 0, 0, 0, 1, 0]  # 9\n",
    "    ]\n",
    "\n",
    "    # Labels: 0 for even, 1 for odd\n",
    "    y_train = [0, 1, 0, 1, 0, 1, 0, 1, 0, 1]\n",
    "\n",
    "    # Create and train the perceptron\n",
    "    perceptron = Perceptron(input_size=10)\n",
    "    perceptron.train(X_train, y_train)\n",
    "    print(\"Perceptron trained successfully!\")\n",
    "    return perceptron\n",
    "\n",
    "def test_perceptron(perceptron):\n",
    "    test_cases = [\n",
    "        [0, 0, 0, 0, 0, 0, 0, 0, 0, 1], # 0\n",
    "        [1, 0, 0, 0, 0, 0, 0, 0, 0, 0], # 1\n",
    "        [0, 1, 0, 0, 0, 0, 0, 0, 0, 0], # 2\n",
    "        [0, 0, 1, 0, 0, 0, 0, 0, 0, 0], # 3\n",
    "        [0, 0, 0, 1, 0, 0, 0, 0, 0, 0], # 4\n",
    "        [0, 0, 0, 0, 1, 0, 0, 0, 0, 0], # 5\n",
    "        [0, 0, 0, 0, 0, 1, 0, 0, 0, 0], # 6\n",
    "        [0, 0, 0, 0, 0, 0, 1, 0, 0, 0], # 7\n",
    "        [0, 0, 0, 0, 0, 0, 0, 1, 0, 0], # 8\n",
    "        [0, 0, 0, 0, 0, 0, 0, 0, 1, 0]  # 9\n",
    "    ]\n",
    "\n",
    "    correct_predictions = 0\n",
    "    for i, test_case in enumerate(test_cases):\n",
    "        prediction = perceptron.predict(test_case)\n",
    "        if prediction == 0 and i % 2 == 0:\n",
    "            correct_predictions += 1\n",
    "        elif prediction == 1 and i % 2 != 0:\n",
    "            correct_predictions += 1\n",
    "    for i, test_case in enumerate(test_cases):\n",
    "        prediction = perceptron.predict(test_case)\n",
    "        if prediction == 0:\n",
    "            print(f\"{test_cases[i]} which is number {i} is even\")\n",
    "        else:\n",
    "            print(f\"Number {i} is odd\")\n",
    "    \n",
    "    accuracy = (correct_predictions / len(test_cases)) * 100\n",
    "    print(f\"Accuracy: {accuracy:.2f}%\")\n",
    "\n",
    "def main():\n",
    "    perceptron = None\n",
    "    while True:\n",
    "        print(\"\\nMENU:\")\n",
    "        print(\"1. Train Perceptron\")\n",
    "        print(\"2. Test Perceptron\")\n",
    "        print(\"3. Exit\")\n",
    "        choice = input(\"Enter your choice: \")\n",
    "\n",
    "        if choice == '1':\n",
    "            if perceptron is None:\n",
    "                perceptron = train_perceptron()\n",
    "            else:\n",
    "                print(\"Perceptron already trained!\")\n",
    "        elif choice == '2':\n",
    "            if perceptron is None:\n",
    "                print(\"Please train the perceptron first!\")\n",
    "            else:\n",
    "                print(\"Testing the perceptron:\")\n",
    "                test_perceptron(perceptron)\n",
    "        elif choice == '3':\n",
    "            print(\"Exiting...\")\n",
    "            break\n",
    "        else:\n",
    "            print(\"Invalid choice. Please enter a valid option.\")\n",
    "\n",
    "if __name__ == \"__main__\":\n",
    "    main()"
   ]
  },
  {
   "cell_type": "code",
   "execution_count": null,
   "id": "7e53b2bd-2af6-49eb-9cf4-9b072a666704",
   "metadata": {},
   "outputs": [],
   "source": []
  }
 ],
 "metadata": {
  "kernelspec": {
   "display_name": "Python 3 (ipykernel)",
   "language": "python",
   "name": "python3"
  },
  "language_info": {
   "codemirror_mode": {
    "name": "ipython",
    "version": 3
   },
   "file_extension": ".py",
   "mimetype": "text/x-python",
   "name": "python",
   "nbconvert_exporter": "python",
   "pygments_lexer": "ipython3",
   "version": "3.12.4"
  }
 },
 "nbformat": 4,
 "nbformat_minor": 5
}
